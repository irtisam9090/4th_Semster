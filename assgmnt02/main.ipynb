{
 "cells": [
  {
   "cell_type": "code",
   "execution_count": 15,
   "metadata": {},
   "outputs": [
    {
     "name": "stdout",
     "output_type": "stream",
     "text": [
      "Training set shape (rows, columns): (8693, 14)\n",
      "First 5 rows of the training set:\n",
      "  PassengerId HomePlanet CryoSleep  Cabin  Destination   Age    VIP  \\\n",
      "0     0001_01     Europa     False  B/0/P  TRAPPIST-1e  39.0  False   \n",
      "1     0002_01      Earth     False  F/0/S  TRAPPIST-1e  24.0  False   \n",
      "2     0003_01     Europa     False  A/0/S  TRAPPIST-1e  58.0   True   \n",
      "3     0003_02     Europa     False  A/0/S  TRAPPIST-1e  33.0  False   \n",
      "4     0004_01      Earth     False  F/1/S  TRAPPIST-1e  16.0  False   \n",
      "\n",
      "   RoomService  FoodCourt  ShoppingMall     Spa  VRDeck               Name  \\\n",
      "0          0.0        0.0           0.0     0.0     0.0    Maham Ofracculy   \n",
      "1        109.0        9.0          25.0   549.0    44.0       Juanna Vines   \n",
      "2         43.0     3576.0           0.0  6715.0    49.0      Altark Susent   \n",
      "3          0.0     1283.0         371.0  3329.0   193.0       Solam Susent   \n",
      "4        303.0       70.0         151.0   565.0     2.0  Willy Santantines   \n",
      "\n",
      "   Transported  \n",
      "0        False  \n",
      "1         True  \n",
      "2        False  \n",
      "3        False  \n",
      "4         True  \n",
      "\n",
      "Overview of training data:\n",
      "<class 'pandas.core.frame.DataFrame'>\n",
      "RangeIndex: 8693 entries, 0 to 8692\n",
      "Data columns (total 14 columns):\n",
      " #   Column        Non-Null Count  Dtype  \n",
      "---  ------        --------------  -----  \n",
      " 0   PassengerId   8693 non-null   object \n",
      " 1   HomePlanet    8492 non-null   object \n",
      " 2   CryoSleep     8476 non-null   object \n",
      " 3   Cabin         8494 non-null   object \n",
      " 4   Destination   8511 non-null   object \n",
      " 5   Age           8514 non-null   float64\n",
      " 6   VIP           8490 non-null   object \n",
      " 7   RoomService   8512 non-null   float64\n",
      " 8   FoodCourt     8510 non-null   float64\n",
      " 9   ShoppingMall  8485 non-null   float64\n",
      " 10  Spa           8510 non-null   float64\n",
      " 11  VRDeck        8505 non-null   float64\n",
      " 12  Name          8493 non-null   object \n",
      " 13  Transported   8693 non-null   bool   \n",
      "dtypes: bool(1), float64(6), object(7)\n",
      "memory usage: 891.5+ KB\n"
     ]
    }
   ],
   "source": [
    "import pandas as pd  \n",
    "import numpy as np  \n",
    "import matplotlib.pyplot as plt \n",
    "import warnings\n",
    "warnings.simplefilter(action='ignore', category=FutureWarning) \n",
    "\n",
    "\n",
    "train_df = pd.read_csv('data/train.csv') \n",
    "test_df = pd.read_csv('data/test.csv')    \n",
    "\n",
    "\n",
    "test_ids = test_df['PassengerId'].copy()\n",
    "\n",
    "print(\"Training set shape (rows, columns):\", train_df.shape)\n",
    "print(\"First 5 rows of the training set:\")\n",
    "print(train_df.head(5))\n",
    "\n",
    "print(\"\\nOverview of training data:\")\n",
    "train_df.info()"
   ]
  },
  {
   "cell_type": "code",
   "execution_count": 16,
   "metadata": {},
   "outputs": [
    {
     "name": "stdout",
     "output_type": "stream",
     "text": [
      "\n",
      "Transported value counts in training data:\n",
      "Transported\n",
      "True     4378\n",
      "False    4315\n",
      "Name: count, dtype: int64\n"
     ]
    },
    {
     "data": {
      "image/png": "[encoded data removed]",
      "text/plain": [
       "<Figure size 640x480 with 1 Axes>"
      ]
     },
     "metadata": {},
     "output_type": "display_data"
    }
   ],
   "source": [
    "print(\"\\nTransported value counts in training data:\")\n",
    "print(train_df['Transported'].value_counts())\n",
    "\n",
    "\n",
    "train_df['Transported'].value_counts().plot(kind='bar', color=['skyblue','orange'])\n",
    "plt.title('Distribution of Transported (Target)')\n",
    "plt.xlabel('Transported (False=Not Transported, True=Transported)')\n",
    "plt.ylabel('Number of Passengers')\n",
    "plt.show()"
   ]
  },
  {
   "cell_type": "code",
   "execution_count": 18,
   "metadata": {},
   "outputs": [
    {
     "name": "stdout",
     "output_type": "stream",
     "text": [
      "Training features after preprocessing:\n",
      "   CryoSleep   Age  VIP  RoomService  FoodCourt  ShoppingMall     Spa  VRDeck  \\\n",
      "0          0  39.0    0          0.0        0.0           0.0     0.0     0.0   \n",
      "1          0  24.0    0        109.0        9.0          25.0   549.0    44.0   \n",
      "2          0  58.0    1         43.0     3576.0           0.0  6715.0    49.0   \n",
      "3          0  33.0    0          0.0     1283.0         371.0  3329.0   193.0   \n",
      "4          0  16.0    0        303.0       70.0         151.0   565.0     2.0   \n",
      "\n",
      "   HomePlanet_Earth  HomePlanet_Europa  HomePlanet_Mars  \\\n",
      "0             False               True            False   \n",
      "1              True              False            False   \n",
      "2             False               True            False   \n",
      "3             False               True            False   \n",
      "4              True              False            False   \n",
      "\n",
      "   Destination_55 Cancri e  Destination_PSO J318.5-22  Destination_TRAPPIST-1e  \n",
      "0                    False                      False                     True  \n",
      "1                    False                      False                     True  \n",
      "2                    False                      False                     True  \n",
      "3                    False                      False                     True  \n",
      "4                    False                      False                     True  \n",
      "Columns in training data: ['CryoSleep', 'Age', 'VIP', 'RoomService', 'FoodCourt', 'ShoppingMall', 'Spa', 'VRDeck', 'HomePlanet_Earth', 'HomePlanet_Europa', 'HomePlanet_Mars', 'Destination_55 Cancri e', 'Destination_PSO J318.5-22', 'Destination_TRAPPIST-1e']\n"
     ]
    }
   ],
   "source": [
    "y = train_df['Transported']  \n",
    "train_df.drop(['PassengerId', 'Name', 'Cabin', 'Transported'], axis=1, inplace=True)\n",
    "train_df['CryoSleep'].fillna(False, inplace=True)\n",
    "train_df['VIP'].fillna(False, inplace=True)       \n",
    "\n",
    "\n",
    "numeric_cols = ['Age', 'RoomService', 'FoodCourt', 'ShoppingMall', 'Spa', 'VRDeck']\n",
    "for col in numeric_cols:\n",
    "    median_val = train_df[col].median() \n",
    "    train_df[col].fillna(median_val, inplace=True)\n",
    "\n",
    "train_df['CryoSleep'] = train_df['CryoSleep'].astype(int) \n",
    "train_df['VIP'] = train_df['VIP'].astype(int)\n",
    "\n",
    "\n",
    "train_df = pd.get_dummies(train_df, columns=['HomePlanet', 'Destination'])\n",
    "print(\"Training features after preprocessing:\")\n",
    "print(train_df.head(5))\n",
    "print(\"Columns in training data:\", list(train_df.columns))"
   ]
  },
  {
   "cell_type": "code",
   "execution_count": 24,
   "metadata": {},
   "outputs": [
    {
     "name": "stdout",
     "output_type": "stream",
     "text": [
      "Test features after preprocessing:\n",
      "   CryoSleep   Age  VIP  RoomService  FoodCourt  ShoppingMall     Spa  VRDeck  \\\n",
      "0          1  27.0    0          0.0        0.0           0.0     0.0     0.0   \n",
      "1          0  19.0    0          0.0        9.0           0.0  2823.0     0.0   \n",
      "2          1  31.0    0          0.0        0.0           0.0     0.0     0.0   \n",
      "3          0  38.0    0          0.0     6652.0           0.0   181.0   585.0   \n",
      "4          0  20.0    0         10.0        0.0         635.0     0.0     0.0   \n",
      "\n",
      "   HomePlanet_Earth  HomePlanet_Europa  HomePlanet_Mars  \\\n",
      "0              True              False            False   \n",
      "1              True              False            False   \n",
      "2             False               True            False   \n",
      "3             False               True            False   \n",
      "4              True              False            False   \n",
      "\n",
      "   Destination_55 Cancri e  Destination_PSO J318.5-22  Destination_TRAPPIST-1e  \n",
      "0                    False                      False                     True  \n",
      "1                    False                      False                     True  \n",
      "2                     True                      False                    False  \n",
      "3                    False                      False                     True  \n",
      "4                    False                      False                     True  \n",
      "Columns in test data: ['CryoSleep', 'Age', 'VIP', 'RoomService', 'FoodCourt', 'ShoppingMall', 'Spa', 'VRDeck', 'HomePlanet_Earth', 'HomePlanet_Europa', 'HomePlanet_Mars', 'Destination_55 Cancri e', 'Destination_PSO J318.5-22', 'Destination_TRAPPIST-1e']\n"
     ]
    }
   ],
   "source": [
    "# test_df.drop(['PassengerId', 'Name', 'Cabin'], axis=1, inplace=True)\n",
    "\n",
    "test_df['CryoSleep'].fillna(False, inplace=True)\n",
    "test_df['VIP'].fillna(False, inplace=True)\n",
    "\n",
    "for col in numeric_cols: \n",
    "    median_val = train_df[col].median() \n",
    "    test_df[col].fillna(median_val, inplace=True)\n",
    "    if col == 'HomePlanet':\n",
    "        most_common = \"Earth\"\n",
    "    if col == 'Destination':\n",
    "        most_common = \"TRAPPIST-1e\"\n",
    "        test_df[col].fillna(most_common, inplace=True)\n",
    "\n",
    "test_df['CryoSleep'] = test_df['CryoSleep'].astype(int)\n",
    "test_df['VIP'] = test_df['VIP'].astype(int)\n",
    "\n",
    "test_df = pd.get_dummies(test_df, columns=['HomePlanet', 'Destination'])\n",
    "\n",
    "test_df = test_df.reindex(columns=train_df.columns, fill_value=0)\n",
    "\n",
    "print(\"Test features after preprocessing:\")\n",
    "print(test_df.head(5))\n",
    "print(\"Columns in test data:\", list(test_df.columns))"
   ]
  },
  {
   "cell_type": "code",
   "execution_count": 25,
   "metadata": {},
   "outputs": [
    {
     "name": "stdout",
     "output_type": "stream",
     "text": [
      "Training set size: 6954 passengers\n",
      "Validation set size: 1739 passengers\n"
     ]
    }
   ],
   "source": [
    "\n",
    "from sklearn.model_selection import train_test_split\n",
    "\n",
    "X_train, X_val, y_train, y_val = train_test_split(train_df, y, test_size=0.2, random_state=42)\n",
    "\n",
    "print(\"Training set size:\", len(X_train), \"passengers\")\n",
    "print(\"Validation set size:\", len(X_val), \"passengers\")"
   ]
  },
  {
   "cell_type": "code",
   "execution_count": 26,
   "metadata": {},
   "outputs": [
    {
     "name": "stdout",
     "output_type": "stream",
     "text": [
      "Model training complete.\n"
     ]
    }
   ],
   "source": [
    "\n",
    "from sklearn.tree import DecisionTreeClassifier\n",
    "\n",
    "model = DecisionTreeClassifier(random_state=42)\n",
    "\n",
    "model.fit(X_train, y_train)\n",
    "\n",
    "print(\"Model training complete.\")"
   ]
  },
  {
   "cell_type": "code",
   "execution_count": 27,
   "metadata": {},
   "outputs": [
    {
     "name": "stdout",
     "output_type": "stream",
     "text": [
      "Accuracy on validation set: 73.61%\n"
     ]
    }
   ],
   "source": [
    "from sklearn.metrics import accuracy_score\n",
    "\n",
    "y_pred = model.predict(X_val)\n",
    "\n",
    "accuracy = accuracy_score(y_val, y_pred)\n",
    "print(f\"Accuracy on validation set: {accuracy*100:.2f}%\")"
   ]
  },
  {
   "cell_type": "code",
   "execution_count": 28,
   "metadata": {},
   "outputs": [
    {
     "name": "stdout",
     "output_type": "stream",
     "text": [
      "Sample predictions on test set:\n",
      "  PassengerId  Transported\n",
      "0     0013_01         True\n",
      "1     0018_01        False\n",
      "2     0019_01         True\n",
      "3     0021_01         True\n",
      "4     0023_01        False\n",
      "5     0027_01         True\n",
      "6     0029_01         True\n",
      "7     0032_01         True\n",
      "8     0032_02         True\n",
      "9     0033_01        False\n"
     ]
    }
   ],
   "source": [
    "test_predictions = model.predict(test_df)\n",
    "\n",
    "output_df = pd.DataFrame({\n",
    "    'PassengerId': test_ids,      \n",
    "    'Transported': test_predictions  \n",
    "})\n",
    "\n",
    "print(\"Sample predictions on test set:\")\n",
    "print(output_df.head(10))\n",
    "output_df.to_csv('submission.csv', index=False)"
   ]
  }
 ],
 "metadata": {
  "kernelspec": {
   "display_name": "Python 3",
   "language": "python",
   "name": "python3"
  },
  "language_info": {
   "codemirror_mode": {
    "name": "ipython",
    "version": 3
   },
   "file_extension": ".py",
   "mimetype": "text/x-python",
   "name": "python",
   "nbconvert_exporter": "python",
   "pygments_lexer": "ipython3",
   "version": "3.12.7"
  }
 },
 "nbformat": 4,
 "nbformat_minor": 2
}
